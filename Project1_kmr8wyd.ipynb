{
 "cells": [
  {
   "cell_type": "markdown",
   "id": "5b0fd2a7",
   "metadata": {},
   "source": [
    "## Project 1 (kmr8wyd)\n",
    "#### Importing the Necessary Libraries"
   ]
  },
  {
   "cell_type": "code",
   "execution_count": 58,
   "id": "e8b95ba5",
   "metadata": {},
   "outputs": [],
   "source": [
    "import os\n",
    "import pandas as pd\n",
    "import numpy\n",
    "\n",
    "from sqlalchemy import create_engine"
   ]
  },
  {
   "cell_type": "markdown",
   "id": "d75c7cda",
   "metadata": {},
   "source": [
    "#### Loading CSV and Viewing Original File"
   ]
  },
  {
   "cell_type": "code",
   "execution_count": 59,
   "id": "a3db4682",
   "metadata": {},
   "outputs": [
    {
     "data": {
      "text/html": [
       "<div>\n",
       "<style scoped>\n",
       "    .dataframe tbody tr th:only-of-type {\n",
       "        vertical-align: middle;\n",
       "    }\n",
       "\n",
       "    .dataframe tbody tr th {\n",
       "        vertical-align: top;\n",
       "    }\n",
       "\n",
       "    .dataframe thead th {\n",
       "        text-align: right;\n",
       "    }\n",
       "</style>\n",
       "<table border=\"1\" class=\"dataframe\">\n",
       "  <thead>\n",
       "    <tr style=\"text-align: right;\">\n",
       "      <th></th>\n",
       "      <th>NAME</th>\n",
       "      <th>TYPE</th>\n",
       "      <th>STATUS</th>\n",
       "      <th>EASEMENT</th>\n",
       "      <th>PROPERTY_OWNER</th>\n",
       "    </tr>\n",
       "    <tr>\n",
       "      <th>OBJECTID</th>\n",
       "      <th></th>\n",
       "      <th></th>\n",
       "      <th></th>\n",
       "      <th></th>\n",
       "      <th></th>\n",
       "    </tr>\n",
       "  </thead>\n",
       "  <tbody>\n",
       "    <tr>\n",
       "      <th>1</th>\n",
       "      <td>Greenbrier School Entry Path</td>\n",
       "      <td>Soft Surface</td>\n",
       "      <td>Existing</td>\n",
       "      <td>Complete</td>\n",
       "      <td>City School Board</td>\n",
       "    </tr>\n",
       "    <tr>\n",
       "      <th>10</th>\n",
       "      <td>Greenleaf - Walker School</td>\n",
       "      <td>Soft Surface</td>\n",
       "      <td>Existing</td>\n",
       "      <td>Complete</td>\n",
       "      <td>City Parks</td>\n",
       "    </tr>\n",
       "    <tr>\n",
       "      <th>13</th>\n",
       "      <td>250 Parallel</td>\n",
       "      <td>Shared Use Path</td>\n",
       "      <td>Existing</td>\n",
       "      <td>Complete</td>\n",
       "      <td>City</td>\n",
       "    </tr>\n",
       "    <tr>\n",
       "      <th>15</th>\n",
       "      <td>250 Parallel</td>\n",
       "      <td>Shared Use Path</td>\n",
       "      <td>Proposed</td>\n",
       "      <td>Complete</td>\n",
       "      <td>City</td>\n",
       "    </tr>\n",
       "    <tr>\n",
       "      <th>17</th>\n",
       "      <td>CHS McI Connector</td>\n",
       "      <td>Soft Surface</td>\n",
       "      <td>Proposed</td>\n",
       "      <td>Complete</td>\n",
       "      <td>City School Board</td>\n",
       "    </tr>\n",
       "  </tbody>\n",
       "</table>\n",
       "</div>"
      ],
      "text/plain": [
       "                                  NAME             TYPE    STATUS  EASEMENT  \\\n",
       "OBJECTID                                                                      \n",
       "1         Greenbrier School Entry Path     Soft Surface  Existing  Complete   \n",
       "10           Greenleaf - Walker School     Soft Surface  Existing  Complete   \n",
       "13                        250 Parallel  Shared Use Path  Existing  Complete   \n",
       "15                        250 Parallel  Shared Use Path  Proposed  Complete   \n",
       "17                   CHS McI Connector     Soft Surface  Proposed  Complete   \n",
       "\n",
       "             PROPERTY_OWNER  \n",
       "OBJECTID                     \n",
       "1         City School Board  \n",
       "10               City Parks  \n",
       "13                     City  \n",
       "15                     City  \n",
       "17        City School Board  "
      ]
     },
     "execution_count": 59,
     "metadata": {},
     "output_type": "execute_result"
    }
   ],
   "source": [
    "data_dir = os.path.join(os.getcwd(), 'downloads')\n",
    "data_file = os.path.join(data_dir, 'City_Trails.csv')\n",
    "\n",
    "df = pd.read_csv(data_file, header=0, index_col=0)\n",
    "df.head()"
   ]
  },
  {
   "cell_type": "markdown",
   "id": "68ec78d2",
   "metadata": {},
   "source": [
    "#### Modifying DataFrame"
   ]
  },
  {
   "cell_type": "code",
   "execution_count": 60,
   "id": "4dec9b1e",
   "metadata": {},
   "outputs": [
    {
     "data": {
      "text/html": [
       "<div>\n",
       "<style scoped>\n",
       "    .dataframe tbody tr th:only-of-type {\n",
       "        vertical-align: middle;\n",
       "    }\n",
       "\n",
       "    .dataframe tbody tr th {\n",
       "        vertical-align: top;\n",
       "    }\n",
       "\n",
       "    .dataframe thead th {\n",
       "        text-align: right;\n",
       "    }\n",
       "</style>\n",
       "<table border=\"1\" class=\"dataframe\">\n",
       "  <thead>\n",
       "    <tr style=\"text-align: right;\">\n",
       "      <th></th>\n",
       "      <th>ID</th>\n",
       "      <th>NAME</th>\n",
       "      <th>STATUS</th>\n",
       "      <th>PROPERTY OWNER</th>\n",
       "      <th>TYPE</th>\n",
       "    </tr>\n",
       "    <tr>\n",
       "      <th>OBJECTID</th>\n",
       "      <th></th>\n",
       "      <th></th>\n",
       "      <th></th>\n",
       "      <th></th>\n",
       "      <th></th>\n",
       "    </tr>\n",
       "  </thead>\n",
       "  <tbody>\n",
       "    <tr>\n",
       "      <th>1</th>\n",
       "      <td>1</td>\n",
       "      <td>Greenbrier School Entry Path</td>\n",
       "      <td>Existing</td>\n",
       "      <td>City School Board</td>\n",
       "      <td>Soft Surface</td>\n",
       "    </tr>\n",
       "    <tr>\n",
       "      <th>10</th>\n",
       "      <td>2</td>\n",
       "      <td>Greenleaf - Walker School</td>\n",
       "      <td>Existing</td>\n",
       "      <td>City Parks</td>\n",
       "      <td>Soft Surface</td>\n",
       "    </tr>\n",
       "    <tr>\n",
       "      <th>13</th>\n",
       "      <td>3</td>\n",
       "      <td>250 Parallel</td>\n",
       "      <td>Existing</td>\n",
       "      <td>City</td>\n",
       "      <td>Shared Use Path</td>\n",
       "    </tr>\n",
       "    <tr>\n",
       "      <th>15</th>\n",
       "      <td>4</td>\n",
       "      <td>250 Parallel</td>\n",
       "      <td>Proposed</td>\n",
       "      <td>City</td>\n",
       "      <td>Shared Use Path</td>\n",
       "    </tr>\n",
       "    <tr>\n",
       "      <th>17</th>\n",
       "      <td>5</td>\n",
       "      <td>CHS McI Connector</td>\n",
       "      <td>Proposed</td>\n",
       "      <td>City School Board</td>\n",
       "      <td>Soft Surface</td>\n",
       "    </tr>\n",
       "  </tbody>\n",
       "</table>\n",
       "</div>"
      ],
      "text/plain": [
       "          ID                          NAME    STATUS     PROPERTY OWNER  \\\n",
       "OBJECTID                                                                  \n",
       "1          1  Greenbrier School Entry Path  Existing  City School Board   \n",
       "10         2     Greenleaf - Walker School  Existing         City Parks   \n",
       "13         3                  250 Parallel  Existing               City   \n",
       "15         4                  250 Parallel  Proposed               City   \n",
       "17         5             CHS McI Connector  Proposed  City School Board   \n",
       "\n",
       "                     TYPE  \n",
       "OBJECTID                   \n",
       "1            Soft Surface  \n",
       "10           Soft Surface  \n",
       "13        Shared Use Path  \n",
       "15        Shared Use Path  \n",
       "17           Soft Surface  "
      ]
     },
     "execution_count": 60,
     "metadata": {},
     "output_type": "execute_result"
    }
   ],
   "source": [
    "df_new = df.rename(columns={'PROPERTY_OWNER': 'PROPERTY OWNER'})\n",
    "del df_new['EASEMENT']\n",
    "df_new.insert(0, 'ID', range(1, 1 + len(df_new)))\n",
    "# Get the DataFrame column names as a list\n",
    "Dlist = ['ID','NAME', 'STATUS', 'PROPERTY OWNER','TYPE']\n",
    "\n",
    "# Pass the new list to the DataFrame - like a key list in a dict \n",
    "dfnew = df_new[Dlist]\n",
    "dfnew.head()"
   ]
  },
  {
   "cell_type": "markdown",
   "id": "23c629e4",
   "metadata": {},
   "source": [
    "#### Declare & Assign Connection Variables for the MySQL Server & Databases"
   ]
  },
  {
   "cell_type": "code",
   "execution_count": 61,
   "id": "28890801",
   "metadata": {},
   "outputs": [],
   "source": [
    "host_name = \"localhost\"\n",
    "ports = {\"mongo\" : 27017, \"mysql\" : 3306}\n",
    "\n",
    "user_id = \"root\"\n",
    "pwd = \"AmericanahSummer21!\"\n",
    "\n",
    "dst_dbname = \"trailinfo_db\""
   ]
  },
  {
   "cell_type": "markdown",
   "id": "21928a06",
   "metadata": {},
   "source": [
    "#### Defining a Function for Setting Data Into Databases"
   ]
  },
  {
   "cell_type": "code",
   "execution_count": 62,
   "id": "eabb5f6a",
   "metadata": {},
   "outputs": [],
   "source": [
    "def set_dataframe(user_id, pwd, host_name, db_name, df, table_name, pk_column, db_operation):\n",
    "    '''Create a connection to the MySQL database'''\n",
    "    conn_str = f\"mysql+pymysql://{user_id}:{pwd}@{host_name}/{db_name}\"\n",
    "    sqlEngine = create_engine(conn_str, pool_recycle=3600)\n",
    "    connection = sqlEngine.connect()\n",
    "    \n",
    "    '''Invoke the Pandas DataFrame .to_sql( ) function to either create, or append to, a table'''\n",
    "    if db_operation == \"insert\":\n",
    "        df.to_sql(table_name, con=connection, index=False, if_exists='replace')\n",
    "        sqlEngine.execute(f\"ALTER TABLE {table_name} ADD PRIMARY KEY ({pk_column});\")\n",
    "            \n",
    "    elif db_operation == \"update\":\n",
    "        df.to_sql(table_name, con=connection, index=False, if_exists='append')\n",
    "    \n",
    "    connection.close()"
   ]
  },
  {
   "cell_type": "code",
   "execution_count": 63,
   "id": "844d7a93",
   "metadata": {},
   "outputs": [
    {
     "data": {
      "text/plain": [
       "<sqlalchemy.engine.cursor.LegacyCursorResult at 0x7fd2e1dd6580>"
      ]
     },
     "execution_count": 63,
     "metadata": {},
     "output_type": "execute_result"
    }
   ],
   "source": [
    "conn_str = f\"mysql+pymysql://{user_id}:{pwd}@{host_name}\"\n",
    "sqlEngine = create_engine(conn_str, pool_recycle=3600)\n",
    "\n",
    "sqlEngine.execute(f\"DROP DATABASE IF EXISTS `{dst_dbname}`;\")\n",
    "sqlEngine.execute(f\"CREATE DATABASE `{dst_dbname}`;\")\n",
    "sqlEngine.execute(f\"USE {dst_dbname};\")"
   ]
  },
  {
   "cell_type": "markdown",
   "id": "2958c90c",
   "metadata": {},
   "source": [
    "#### Setting Data into Database"
   ]
  },
  {
   "cell_type": "code",
   "execution_count": 64,
   "id": "aa6af8d4",
   "metadata": {},
   "outputs": [],
   "source": [
    "try:\n",
    "    set_dataframe(user_id, pwd, host_name, dst_dbname, dfnew, 'dfnew', 'ID', \"insert\")\n",
    "except:\n",
    "    print(\"Error: Unable to set dataframe.\")"
   ]
  },
  {
   "cell_type": "markdown",
   "id": "a8db4986",
   "metadata": {},
   "source": [
    "#### Converting Data to JSON"
   ]
  },
  {
   "cell_type": "code",
   "execution_count": 68,
   "id": "62d0c419",
   "metadata": {},
   "outputs": [],
   "source": [
    "try:\n",
    "    dfnew.to_json('cvilletrails.json', orient = \"records\", date_format = \"epoch\", double_precision = 10, force_ascii = True, date_unit = \"ms\", default_handler = None)\n",
    "except:\n",
    "    print(\"Error: Unable to create JSON file.\")"
   ]
  },
  {
   "cell_type": "markdown",
   "id": "a48230a0",
   "metadata": {},
   "source": [
    "#### Returning Data Summary"
   ]
  },
  {
   "cell_type": "code",
   "execution_count": 71,
   "id": "065a8e38",
   "metadata": {},
   "outputs": [
    {
     "name": "stdout",
     "output_type": "stream",
     "text": [
      "There are  500 records in this data set.\n",
      "There are  5 columns in this data set.\n"
     ]
    }
   ],
   "source": [
    "num_records = dfnew.shape[0]\n",
    "print (\"There are \", num_records, \"records in this data set.\")\n",
    "num_columns = len(dfnew.columns)\n",
    "print (\"There are \", num_columns, \"columns in this data set.\")"
   ]
  }
 ],
 "metadata": {
  "kernelspec": {
   "display_name": "Python 3 (ipykernel)",
   "language": "python",
   "name": "python3"
  },
  "language_info": {
   "codemirror_mode": {
    "name": "ipython",
    "version": 3
   },
   "file_extension": ".py",
   "mimetype": "text/x-python",
   "name": "python",
   "nbconvert_exporter": "python",
   "pygments_lexer": "ipython3",
   "version": "3.9.7"
  }
 },
 "nbformat": 4,
 "nbformat_minor": 5
}
